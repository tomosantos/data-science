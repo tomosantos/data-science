{
 "cells": [
  {
   "cell_type": "markdown",
   "metadata": {},
   "source": [
    "## GDP Per Person *(1901 - 2011)*\n",
    "\n",
    "Link para o Dataset: [GDP Per Person (1901-2011)](https://www.kaggle.com/divyansh22/gdp-per-person-19012011?select=GDP.csv)"
   ]
  },
  {
   "cell_type": "code",
   "execution_count": 125,
   "metadata": {},
   "outputs": [],
   "source": [
    "import pandas as pd\n",
    "import numpy as np"
   ]
  },
  {
   "cell_type": "code",
   "execution_count": 126,
   "metadata": {},
   "outputs": [
    {
     "data": {
      "text/html": [
       "<div>\n",
       "<style scoped>\n",
       "    .dataframe tbody tr th:only-of-type {\n",
       "        vertical-align: middle;\n",
       "    }\n",
       "\n",
       "    .dataframe tbody tr th {\n",
       "        vertical-align: top;\n",
       "    }\n",
       "\n",
       "    .dataframe thead th {\n",
       "        text-align: right;\n",
       "    }\n",
       "</style>\n",
       "<table border=\"1\" class=\"dataframe\">\n",
       "  <thead>\n",
       "    <tr style=\"text-align: right;\">\n",
       "      <th></th>\n",
       "      <th>Country</th>\n",
       "      <th>Region</th>\n",
       "      <th>Year</th>\n",
       "      <th>GDP_pp</th>\n",
       "    </tr>\n",
       "  </thead>\n",
       "  <tbody>\n",
       "    <tr>\n",
       "      <th>0</th>\n",
       "      <td>Afghanistan</td>\n",
       "      <td>Middle East, North Africa, and Greater Arabia</td>\n",
       "      <td>1/1/1901</td>\n",
       "      <td>613.99</td>\n",
       "    </tr>\n",
       "    <tr>\n",
       "      <th>1</th>\n",
       "      <td>Afghanistan</td>\n",
       "      <td>Middle East, North Africa, and Greater Arabia</td>\n",
       "      <td>1/1/1906</td>\n",
       "      <td>624.04</td>\n",
       "    </tr>\n",
       "    <tr>\n",
       "      <th>2</th>\n",
       "      <td>Afghanistan</td>\n",
       "      <td>Middle East, North Africa, and Greater Arabia</td>\n",
       "      <td>1/1/1911</td>\n",
       "      <td>634.25</td>\n",
       "    </tr>\n",
       "    <tr>\n",
       "      <th>3</th>\n",
       "      <td>Afghanistan</td>\n",
       "      <td>Middle East, North Africa, and Greater Arabia</td>\n",
       "      <td>1/1/1916</td>\n",
       "      <td>647.28</td>\n",
       "    </tr>\n",
       "    <tr>\n",
       "      <th>4</th>\n",
       "      <td>Afghanistan</td>\n",
       "      <td>Middle East, North Africa, and Greater Arabia</td>\n",
       "      <td>1/1/1921</td>\n",
       "      <td>662.40</td>\n",
       "    </tr>\n",
       "  </tbody>\n",
       "</table>\n",
       "</div>"
      ],
      "text/plain": [
       "       Country                                         Region      Year  \\\n",
       "0  Afghanistan  Middle East, North Africa, and Greater Arabia  1/1/1901   \n",
       "1  Afghanistan  Middle East, North Africa, and Greater Arabia  1/1/1906   \n",
       "2  Afghanistan  Middle East, North Africa, and Greater Arabia  1/1/1911   \n",
       "3  Afghanistan  Middle East, North Africa, and Greater Arabia  1/1/1916   \n",
       "4  Afghanistan  Middle East, North Africa, and Greater Arabia  1/1/1921   \n",
       "\n",
       "    GDP_pp   \n",
       "0   613.99   \n",
       "1   624.04   \n",
       "2   634.25   \n",
       "3   647.28   \n",
       "4   662.40   "
      ]
     },
     "execution_count": 126,
     "metadata": {},
     "output_type": "execute_result"
    }
   ],
   "source": [
    "gdp = pd.read_csv('data/GDP.csv', decimal='.')\n",
    "gdp.head(5)"
   ]
  },
  {
   "cell_type": "code",
   "execution_count": 127,
   "metadata": {},
   "outputs": [
    {
     "name": "stdout",
     "output_type": "stream",
     "text": [
      "<class 'pandas.core.frame.DataFrame'>\n",
      "RangeIndex: 4419 entries, 0 to 4418\n",
      "Data columns (total 4 columns):\n",
      " #   Column    Non-Null Count  Dtype \n",
      "---  ------    --------------  ----- \n",
      " 0   Country   4419 non-null   object\n",
      " 1   Region    4419 non-null   object\n",
      " 2   Year      4419 non-null   object\n",
      " 3    GDP_pp   4419 non-null   object\n",
      "dtypes: object(4)\n",
      "memory usage: 138.2+ KB\n"
     ]
    }
   ],
   "source": [
    "gdp.info()"
   ]
  },
  {
   "cell_type": "code",
   "execution_count": 128,
   "metadata": {},
   "outputs": [
    {
     "data": {
      "text/plain": [
       "Country  Region  Year    GDP_pp \n",
       "False    False   False  False       4419\n",
       "Name: count, dtype: int64"
      ]
     },
     "execution_count": 128,
     "metadata": {},
     "output_type": "execute_result"
    }
   ],
   "source": [
    "gdp.isnull().value_counts()"
   ]
  },
  {
   "cell_type": "markdown",
   "metadata": {},
   "source": [
    "#### Limpe o conjunto de dados, convertendo strings em datas ou float, quando necessário."
   ]
  },
  {
   "cell_type": "code",
   "execution_count": 129,
   "metadata": {},
   "outputs": [],
   "source": [
    "# limpando conjunto de dados\n",
    "gdp['GDP_pp'] = gdp[' GDP_pp ']\n",
    "del gdp[' GDP_pp ']\n",
    "\n",
    "# fazendo as devidas conversões\n",
    "gdp['Year'] = pd.to_datetime(gdp['Year'])\n",
    "gdp['Year'] = gdp['Year'].apply(lambda x: x.year)\n",
    "\n",
    "gdp['GDP_pp'] = gdp['GDP_pp'].apply(lambda x: x.replace(',', ''))\n",
    "gdp['GDP_pp'] = gdp['GDP_pp'].apply(lambda x: float(x))"
   ]
  },
  {
   "cell_type": "code",
   "execution_count": 130,
   "metadata": {},
   "outputs": [
    {
     "name": "stdout",
     "output_type": "stream",
     "text": [
      "<class 'pandas.core.frame.DataFrame'>\n",
      "RangeIndex: 4419 entries, 0 to 4418\n",
      "Data columns (total 4 columns):\n",
      " #   Column   Non-Null Count  Dtype  \n",
      "---  ------   --------------  -----  \n",
      " 0   Country  4419 non-null   object \n",
      " 1   Region   4419 non-null   object \n",
      " 2   Year     4419 non-null   int64  \n",
      " 3   GDP_pp   4419 non-null   float64\n",
      "dtypes: float64(1), int64(1), object(2)\n",
      "memory usage: 138.2+ KB\n"
     ]
    }
   ],
   "source": [
    "gdp.info()"
   ]
  },
  {
   "cell_type": "code",
   "execution_count": 131,
   "metadata": {},
   "outputs": [
    {
     "data": {
      "text/html": [
       "<div>\n",
       "<style scoped>\n",
       "    .dataframe tbody tr th:only-of-type {\n",
       "        vertical-align: middle;\n",
       "    }\n",
       "\n",
       "    .dataframe tbody tr th {\n",
       "        vertical-align: top;\n",
       "    }\n",
       "\n",
       "    .dataframe thead th {\n",
       "        text-align: right;\n",
       "    }\n",
       "</style>\n",
       "<table border=\"1\" class=\"dataframe\">\n",
       "  <thead>\n",
       "    <tr style=\"text-align: right;\">\n",
       "      <th></th>\n",
       "      <th>Country</th>\n",
       "      <th>Region</th>\n",
       "      <th>Year</th>\n",
       "      <th>GDP_pp</th>\n",
       "    </tr>\n",
       "  </thead>\n",
       "  <tbody>\n",
       "    <tr>\n",
       "      <th>0</th>\n",
       "      <td>Afghanistan</td>\n",
       "      <td>Middle East, North Africa, and Greater Arabia</td>\n",
       "      <td>1901</td>\n",
       "      <td>613.99</td>\n",
       "    </tr>\n",
       "    <tr>\n",
       "      <th>1</th>\n",
       "      <td>Afghanistan</td>\n",
       "      <td>Middle East, North Africa, and Greater Arabia</td>\n",
       "      <td>1906</td>\n",
       "      <td>624.04</td>\n",
       "    </tr>\n",
       "    <tr>\n",
       "      <th>2</th>\n",
       "      <td>Afghanistan</td>\n",
       "      <td>Middle East, North Africa, and Greater Arabia</td>\n",
       "      <td>1911</td>\n",
       "      <td>634.25</td>\n",
       "    </tr>\n",
       "    <tr>\n",
       "      <th>3</th>\n",
       "      <td>Afghanistan</td>\n",
       "      <td>Middle East, North Africa, and Greater Arabia</td>\n",
       "      <td>1916</td>\n",
       "      <td>647.28</td>\n",
       "    </tr>\n",
       "    <tr>\n",
       "      <th>4</th>\n",
       "      <td>Afghanistan</td>\n",
       "      <td>Middle East, North Africa, and Greater Arabia</td>\n",
       "      <td>1921</td>\n",
       "      <td>662.40</td>\n",
       "    </tr>\n",
       "  </tbody>\n",
       "</table>\n",
       "</div>"
      ],
      "text/plain": [
       "       Country                                         Region  Year  GDP_pp\n",
       "0  Afghanistan  Middle East, North Africa, and Greater Arabia  1901  613.99\n",
       "1  Afghanistan  Middle East, North Africa, and Greater Arabia  1906  624.04\n",
       "2  Afghanistan  Middle East, North Africa, and Greater Arabia  1911  634.25\n",
       "3  Afghanistan  Middle East, North Africa, and Greater Arabia  1916  647.28\n",
       "4  Afghanistan  Middle East, North Africa, and Greater Arabia  1921  662.40"
      ]
     },
     "execution_count": 131,
     "metadata": {},
     "output_type": "execute_result"
    }
   ],
   "source": [
    "gdp.head(5)"
   ]
  },
  {
   "cell_type": "markdown",
   "metadata": {},
   "source": [
    "#### Você conseguiria informar o primeiro valor registrado de cada país?"
   ]
  },
  {
   "cell_type": "code",
   "execution_count": 132,
   "metadata": {},
   "outputs": [
    {
     "data": {
      "text/html": [
       "<div>\n",
       "<style scoped>\n",
       "    .dataframe tbody tr th:only-of-type {\n",
       "        vertical-align: middle;\n",
       "    }\n",
       "\n",
       "    .dataframe tbody tr th {\n",
       "        vertical-align: top;\n",
       "    }\n",
       "\n",
       "    .dataframe thead th {\n",
       "        text-align: right;\n",
       "    }\n",
       "</style>\n",
       "<table border=\"1\" class=\"dataframe\">\n",
       "  <thead>\n",
       "    <tr style=\"text-align: right;\">\n",
       "      <th></th>\n",
       "      <th>Year</th>\n",
       "    </tr>\n",
       "    <tr>\n",
       "      <th>Country</th>\n",
       "      <th></th>\n",
       "    </tr>\n",
       "  </thead>\n",
       "  <tbody>\n",
       "    <tr>\n",
       "      <th>Afghanistan</th>\n",
       "      <td>1901</td>\n",
       "    </tr>\n",
       "    <tr>\n",
       "      <th>Albania</th>\n",
       "      <td>1901</td>\n",
       "    </tr>\n",
       "    <tr>\n",
       "      <th>Algeria</th>\n",
       "      <td>1901</td>\n",
       "    </tr>\n",
       "    <tr>\n",
       "      <th>Andorra</th>\n",
       "      <td>1901</td>\n",
       "    </tr>\n",
       "    <tr>\n",
       "      <th>Angola</th>\n",
       "      <td>1901</td>\n",
       "    </tr>\n",
       "    <tr>\n",
       "      <th>...</th>\n",
       "      <td>...</td>\n",
       "    </tr>\n",
       "    <tr>\n",
       "      <th>Venezuela</th>\n",
       "      <td>1901</td>\n",
       "    </tr>\n",
       "    <tr>\n",
       "      <th>Vietnam</th>\n",
       "      <td>1901</td>\n",
       "    </tr>\n",
       "    <tr>\n",
       "      <th>Yemen, Rep.</th>\n",
       "      <td>1901</td>\n",
       "    </tr>\n",
       "    <tr>\n",
       "      <th>Zambia</th>\n",
       "      <td>1901</td>\n",
       "    </tr>\n",
       "    <tr>\n",
       "      <th>Zimbabwe</th>\n",
       "      <td>1901</td>\n",
       "    </tr>\n",
       "  </tbody>\n",
       "</table>\n",
       "<p>193 rows × 1 columns</p>\n",
       "</div>"
      ],
      "text/plain": [
       "             Year\n",
       "Country          \n",
       "Afghanistan  1901\n",
       "Albania      1901\n",
       "Algeria      1901\n",
       "Andorra      1901\n",
       "Angola       1901\n",
       "...           ...\n",
       "Venezuela    1901\n",
       "Vietnam      1901\n",
       "Yemen, Rep.  1901\n",
       "Zambia       1901\n",
       "Zimbabwe     1901\n",
       "\n",
       "[193 rows x 1 columns]"
      ]
     },
     "execution_count": 132,
     "metadata": {},
     "output_type": "execute_result"
    }
   ],
   "source": [
    "gdp.groupby('Country').min()['Year'].to_frame()"
   ]
  },
  {
   "cell_type": "markdown",
   "metadata": {},
   "source": [
    "#### Informe as regiões com maiores crescimentos de PIB per capita no século passado."
   ]
  },
  {
   "cell_type": "code",
   "execution_count": 133,
   "metadata": {},
   "outputs": [
    {
     "data": {
      "text/plain": [
       "Country              Zimbabwe\n",
       "Region     Sub-Saharan Africa\n",
       "Year                     1996\n",
       "GDP_pp               118681.3\n",
       "dtype: object"
      ]
     },
     "execution_count": 133,
     "metadata": {},
     "output_type": "execute_result"
    }
   ],
   "source": [
    "gdp[gdp['Year'] < 2000].max()"
   ]
  },
  {
   "cell_type": "code",
   "execution_count": 134,
   "metadata": {},
   "outputs": [],
   "source": [
    "gdp_start = gdp[gdp['Year'] == 1901]\n",
    "gdp_end = gdp[gdp['Year'] == 1996]"
   ]
  },
  {
   "cell_type": "code",
   "execution_count": 135,
   "metadata": {},
   "outputs": [
    {
     "data": {
      "text/html": [
       "<div>\n",
       "<style scoped>\n",
       "    .dataframe tbody tr th:only-of-type {\n",
       "        vertical-align: middle;\n",
       "    }\n",
       "\n",
       "    .dataframe tbody tr th {\n",
       "        vertical-align: top;\n",
       "    }\n",
       "\n",
       "    .dataframe thead th {\n",
       "        text-align: right;\n",
       "    }\n",
       "</style>\n",
       "<table border=\"1\" class=\"dataframe\">\n",
       "  <thead>\n",
       "    <tr style=\"text-align: right;\">\n",
       "      <th></th>\n",
       "      <th>GDP_pp</th>\n",
       "    </tr>\n",
       "    <tr>\n",
       "      <th>Region</th>\n",
       "      <th></th>\n",
       "    </tr>\n",
       "  </thead>\n",
       "  <tbody>\n",
       "    <tr>\n",
       "      <th>Sub-Saharan Africa</th>\n",
       "      <td>248.634</td>\n",
       "    </tr>\n",
       "    <tr>\n",
       "      <th>South America</th>\n",
       "      <td>312.124</td>\n",
       "    </tr>\n",
       "    <tr>\n",
       "      <th>Australia and Oceania</th>\n",
       "      <td>396.075</td>\n",
       "    </tr>\n",
       "    <tr>\n",
       "      <th>Central America and the Caribbean</th>\n",
       "      <td>406.427</td>\n",
       "    </tr>\n",
       "    <tr>\n",
       "      <th>North America</th>\n",
       "      <td>589.760</td>\n",
       "    </tr>\n",
       "    <tr>\n",
       "      <th>Europe</th>\n",
       "      <td>594.046</td>\n",
       "    </tr>\n",
       "    <tr>\n",
       "      <th>Asia</th>\n",
       "      <td>711.762</td>\n",
       "    </tr>\n",
       "    <tr>\n",
       "      <th>Middle East, North Africa, and Greater Arabia</th>\n",
       "      <td>857.216</td>\n",
       "    </tr>\n",
       "  </tbody>\n",
       "</table>\n",
       "</div>"
      ],
      "text/plain": [
       "                                                GDP_pp\n",
       "Region                                                \n",
       "Sub-Saharan Africa                             248.634\n",
       "South America                                  312.124\n",
       "Australia and Oceania                          396.075\n",
       "Central America and the Caribbean              406.427\n",
       "North America                                  589.760\n",
       "Europe                                         594.046\n",
       "Asia                                           711.762\n",
       "Middle East, North Africa, and Greater Arabia  857.216"
      ]
     },
     "execution_count": 135,
     "metadata": {},
     "output_type": "execute_result"
    }
   ],
   "source": [
    "((gdp_end.groupby('Region')['GDP_pp'].mean() / gdp_start.groupby('Region')['GDP_pp'].mean() - 1) * 100).round(3).sort_values().to_frame()"
   ]
  },
  {
   "cell_type": "markdown",
   "metadata": {},
   "source": [
    "#### Preencha os anos ausentes em cada país com uma estimativa, baseada na diferença entre o próximo registro e o anterior."
   ]
  },
  {
   "cell_type": "code",
   "execution_count": 136,
   "metadata": {},
   "outputs": [],
   "source": [
    "arr_year = np.arange(gdp['Year'].min(), gdp['Year'].max())\n",
    "df_years = pd.DataFrame(arr_year, columns=['Year'])\n",
    "df_years.index = df_years['Year']\n",
    "\n",
    "df_years_off = ~df_years['Year'].isin(gdp['Year'])   # coloca todos os valores não presentes na tabela em um df\n",
    "df_years_off = df_years.loc[df_years_off].index"
   ]
  },
  {
   "cell_type": "code",
   "execution_count": 137,
   "metadata": {},
   "outputs": [
    {
     "data": {
      "text/plain": [
       "Index([1902, 1903, 1904, 1905, 1907, 1908, 1909, 1910, 1912, 1913, 1914, 1915,\n",
       "       1917, 1918, 1919, 1920, 1922, 1923, 1924, 1925, 1927, 1928, 1929, 1930,\n",
       "       1932, 1933, 1934, 1935, 1937, 1938, 1939, 1940, 1942, 1943, 1944, 1945,\n",
       "       1947, 1948, 1949, 1950, 1952, 1953, 1954, 1955, 1957, 1958, 1959, 1960,\n",
       "       1962, 1963, 1964, 1965, 1967, 1968, 1969, 1970, 1972, 1973, 1974, 1975,\n",
       "       1977, 1978, 1979, 1980, 1982, 1983, 1984, 1985, 1987, 1988, 1989, 1990,\n",
       "       1992, 1993, 1994, 1995, 1997, 1998, 1999, 2000, 2002, 2003, 2004, 2005,\n",
       "       2007, 2008, 2009, 2010],\n",
       "      dtype='int64', name='Year')"
      ]
     },
     "execution_count": 137,
     "metadata": {},
     "output_type": "execute_result"
    }
   ],
   "source": [
    "df_years_off"
   ]
  },
  {
   "cell_type": "code",
   "execution_count": 138,
   "metadata": {},
   "outputs": [],
   "source": [
    "gdp = gdp.sort_values(['Country', 'Year'])\n",
    "\n",
    "gdp['delta_gdp'] = gdp['GDP_pp'] - gdp['GDP_pp'].shift(1)\n",
    "gdp['delta_year'] = gdp['Year'] - gdp['Year'].shift(1)\n",
    "gdp['gdp_year'] = (gdp['delta_gdp'] / gdp['delta_year']).shift(-1)"
   ]
  },
  {
   "cell_type": "code",
   "execution_count": 139,
   "metadata": {},
   "outputs": [],
   "source": [
    "gdp['next_year'] = gdp['Year'].shift(-1)\n",
    "del gdp['delta_gdp'], gdp['delta_year']"
   ]
  },
  {
   "cell_type": "code",
   "execution_count": 140,
   "metadata": {},
   "outputs": [
    {
     "data": {
      "text/html": [
       "<div>\n",
       "<style scoped>\n",
       "    .dataframe tbody tr th:only-of-type {\n",
       "        vertical-align: middle;\n",
       "    }\n",
       "\n",
       "    .dataframe tbody tr th {\n",
       "        vertical-align: top;\n",
       "    }\n",
       "\n",
       "    .dataframe thead th {\n",
       "        text-align: right;\n",
       "    }\n",
       "</style>\n",
       "<table border=\"1\" class=\"dataframe\">\n",
       "  <thead>\n",
       "    <tr style=\"text-align: right;\">\n",
       "      <th></th>\n",
       "      <th>Country</th>\n",
       "      <th>Region</th>\n",
       "      <th>Year</th>\n",
       "      <th>GDP_pp</th>\n",
       "      <th>gdp_year</th>\n",
       "      <th>next_year</th>\n",
       "    </tr>\n",
       "  </thead>\n",
       "  <tbody>\n",
       "    <tr>\n",
       "      <th>0</th>\n",
       "      <td>Afghanistan</td>\n",
       "      <td>Middle East, North Africa, and Greater Arabia</td>\n",
       "      <td>1901</td>\n",
       "      <td>613.99</td>\n",
       "      <td>2.010</td>\n",
       "      <td>1906.0</td>\n",
       "    </tr>\n",
       "    <tr>\n",
       "      <th>1</th>\n",
       "      <td>Afghanistan</td>\n",
       "      <td>Middle East, North Africa, and Greater Arabia</td>\n",
       "      <td>1906</td>\n",
       "      <td>624.04</td>\n",
       "      <td>2.042</td>\n",
       "      <td>1911.0</td>\n",
       "    </tr>\n",
       "    <tr>\n",
       "      <th>2</th>\n",
       "      <td>Afghanistan</td>\n",
       "      <td>Middle East, North Africa, and Greater Arabia</td>\n",
       "      <td>1911</td>\n",
       "      <td>634.25</td>\n",
       "      <td>2.606</td>\n",
       "      <td>1916.0</td>\n",
       "    </tr>\n",
       "    <tr>\n",
       "      <th>3</th>\n",
       "      <td>Afghanistan</td>\n",
       "      <td>Middle East, North Africa, and Greater Arabia</td>\n",
       "      <td>1916</td>\n",
       "      <td>647.28</td>\n",
       "      <td>3.024</td>\n",
       "      <td>1921.0</td>\n",
       "    </tr>\n",
       "    <tr>\n",
       "      <th>4</th>\n",
       "      <td>Afghanistan</td>\n",
       "      <td>Middle East, North Africa, and Greater Arabia</td>\n",
       "      <td>1921</td>\n",
       "      <td>662.40</td>\n",
       "      <td>3.094</td>\n",
       "      <td>1926.0</td>\n",
       "    </tr>\n",
       "  </tbody>\n",
       "</table>\n",
       "</div>"
      ],
      "text/plain": [
       "       Country                                         Region  Year  GDP_pp  \\\n",
       "0  Afghanistan  Middle East, North Africa, and Greater Arabia  1901  613.99   \n",
       "1  Afghanistan  Middle East, North Africa, and Greater Arabia  1906  624.04   \n",
       "2  Afghanistan  Middle East, North Africa, and Greater Arabia  1911  634.25   \n",
       "3  Afghanistan  Middle East, North Africa, and Greater Arabia  1916  647.28   \n",
       "4  Afghanistan  Middle East, North Africa, and Greater Arabia  1921  662.40   \n",
       "\n",
       "   gdp_year  next_year  \n",
       "0     2.010     1906.0  \n",
       "1     2.042     1911.0  \n",
       "2     2.606     1916.0  \n",
       "3     3.024     1921.0  \n",
       "4     3.094     1926.0  "
      ]
     },
     "execution_count": 140,
     "metadata": {},
     "output_type": "execute_result"
    }
   ],
   "source": [
    "gdp.head(5)"
   ]
  },
  {
   "cell_type": "code",
   "execution_count": 141,
   "metadata": {},
   "outputs": [],
   "source": [
    "df_new_data = pd.DataFrame()\n",
    "\n",
    "for idx, row in gdp.iterrows():\n",
    "    if row['Year'] == 2011:\n",
    "        continue\n",
    "    \n",
    "    years_to_add = df_years_off[(df_years_off < row[\"next_year\"]) & (df_years_off >row[\"Year\"])]    \n",
    "    \n",
    "    for new_year in years_to_add:\n",
    "        add_row = row.copy()\n",
    "        add_row['GDP_pp'] = (new_year - add_row['Year']) * add_row['gdp_year'] + add_row['GDP_pp']\n",
    "        add_row['Year'] = new_year\n",
    "        add_row['kind'] = 'estimated'\n",
    "        df_new_data = pd.concat([df_new_data, add_row.to_frame().transpose()])"
   ]
  },
  {
   "cell_type": "code",
   "execution_count": 142,
   "metadata": {},
   "outputs": [],
   "source": [
    "gdp = pd.concat([gdp, df_new_data])\n",
    "gdp.sort_values(['Country', 'Year'], inplace=True)\n",
    "gdp.index = gdp['Year']\n",
    "gdp['kind'].fillna('real', inplace=True)"
   ]
  },
  {
   "cell_type": "code",
   "execution_count": 143,
   "metadata": {},
   "outputs": [
    {
     "data": {
      "text/html": [
       "<div>\n",
       "<style scoped>\n",
       "    .dataframe tbody tr th:only-of-type {\n",
       "        vertical-align: middle;\n",
       "    }\n",
       "\n",
       "    .dataframe tbody tr th {\n",
       "        vertical-align: top;\n",
       "    }\n",
       "\n",
       "    .dataframe thead th {\n",
       "        text-align: right;\n",
       "    }\n",
       "</style>\n",
       "<table border=\"1\" class=\"dataframe\">\n",
       "  <thead>\n",
       "    <tr style=\"text-align: right;\">\n",
       "      <th></th>\n",
       "      <th>Country</th>\n",
       "      <th>Region</th>\n",
       "      <th>Year</th>\n",
       "      <th>GDP_pp</th>\n",
       "      <th>gdp_year</th>\n",
       "      <th>next_year</th>\n",
       "      <th>kind</th>\n",
       "    </tr>\n",
       "    <tr>\n",
       "      <th>Year</th>\n",
       "      <th></th>\n",
       "      <th></th>\n",
       "      <th></th>\n",
       "      <th></th>\n",
       "      <th></th>\n",
       "      <th></th>\n",
       "      <th></th>\n",
       "    </tr>\n",
       "  </thead>\n",
       "  <tbody>\n",
       "    <tr>\n",
       "      <th>1901</th>\n",
       "      <td>Afghanistan</td>\n",
       "      <td>Middle East, North Africa, and Greater Arabia</td>\n",
       "      <td>1901</td>\n",
       "      <td>613.99</td>\n",
       "      <td>2.01</td>\n",
       "      <td>1906.0</td>\n",
       "      <td>real</td>\n",
       "    </tr>\n",
       "    <tr>\n",
       "      <th>1902</th>\n",
       "      <td>Afghanistan</td>\n",
       "      <td>Middle East, North Africa, and Greater Arabia</td>\n",
       "      <td>1902</td>\n",
       "      <td>616.0</td>\n",
       "      <td>2.01</td>\n",
       "      <td>1906.0</td>\n",
       "      <td>estimated</td>\n",
       "    </tr>\n",
       "    <tr>\n",
       "      <th>1903</th>\n",
       "      <td>Afghanistan</td>\n",
       "      <td>Middle East, North Africa, and Greater Arabia</td>\n",
       "      <td>1903</td>\n",
       "      <td>618.01</td>\n",
       "      <td>2.01</td>\n",
       "      <td>1906.0</td>\n",
       "      <td>estimated</td>\n",
       "    </tr>\n",
       "    <tr>\n",
       "      <th>1904</th>\n",
       "      <td>Afghanistan</td>\n",
       "      <td>Middle East, North Africa, and Greater Arabia</td>\n",
       "      <td>1904</td>\n",
       "      <td>620.02</td>\n",
       "      <td>2.01</td>\n",
       "      <td>1906.0</td>\n",
       "      <td>estimated</td>\n",
       "    </tr>\n",
       "    <tr>\n",
       "      <th>1905</th>\n",
       "      <td>Afghanistan</td>\n",
       "      <td>Middle East, North Africa, and Greater Arabia</td>\n",
       "      <td>1905</td>\n",
       "      <td>622.03</td>\n",
       "      <td>2.01</td>\n",
       "      <td>1906.0</td>\n",
       "      <td>estimated</td>\n",
       "    </tr>\n",
       "    <tr>\n",
       "      <th>...</th>\n",
       "      <td>...</td>\n",
       "      <td>...</td>\n",
       "      <td>...</td>\n",
       "      <td>...</td>\n",
       "      <td>...</td>\n",
       "      <td>...</td>\n",
       "      <td>...</td>\n",
       "    </tr>\n",
       "    <tr>\n",
       "      <th>2007</th>\n",
       "      <td>Zimbabwe</td>\n",
       "      <td>Sub-Saharan Africa</td>\n",
       "      <td>2007</td>\n",
       "      <td>521.402</td>\n",
       "      <td>1.232</td>\n",
       "      <td>2011.0</td>\n",
       "      <td>estimated</td>\n",
       "    </tr>\n",
       "    <tr>\n",
       "      <th>2008</th>\n",
       "      <td>Zimbabwe</td>\n",
       "      <td>Sub-Saharan Africa</td>\n",
       "      <td>2008</td>\n",
       "      <td>522.634</td>\n",
       "      <td>1.232</td>\n",
       "      <td>2011.0</td>\n",
       "      <td>estimated</td>\n",
       "    </tr>\n",
       "    <tr>\n",
       "      <th>2009</th>\n",
       "      <td>Zimbabwe</td>\n",
       "      <td>Sub-Saharan Africa</td>\n",
       "      <td>2009</td>\n",
       "      <td>523.866</td>\n",
       "      <td>1.232</td>\n",
       "      <td>2011.0</td>\n",
       "      <td>estimated</td>\n",
       "    </tr>\n",
       "    <tr>\n",
       "      <th>2010</th>\n",
       "      <td>Zimbabwe</td>\n",
       "      <td>Sub-Saharan Africa</td>\n",
       "      <td>2010</td>\n",
       "      <td>525.098</td>\n",
       "      <td>1.232</td>\n",
       "      <td>2011.0</td>\n",
       "      <td>estimated</td>\n",
       "    </tr>\n",
       "    <tr>\n",
       "      <th>2011</th>\n",
       "      <td>Zimbabwe</td>\n",
       "      <td>Sub-Saharan Africa</td>\n",
       "      <td>2011</td>\n",
       "      <td>526.33</td>\n",
       "      <td>NaN</td>\n",
       "      <td>NaN</td>\n",
       "      <td>real</td>\n",
       "    </tr>\n",
       "  </tbody>\n",
       "</table>\n",
       "<p>21323 rows × 7 columns</p>\n",
       "</div>"
      ],
      "text/plain": [
       "          Country                                         Region  Year  \\\n",
       "Year                                                                     \n",
       "1901  Afghanistan  Middle East, North Africa, and Greater Arabia  1901   \n",
       "1902  Afghanistan  Middle East, North Africa, and Greater Arabia  1902   \n",
       "1903  Afghanistan  Middle East, North Africa, and Greater Arabia  1903   \n",
       "1904  Afghanistan  Middle East, North Africa, and Greater Arabia  1904   \n",
       "1905  Afghanistan  Middle East, North Africa, and Greater Arabia  1905   \n",
       "...           ...                                            ...   ...   \n",
       "2007     Zimbabwe                             Sub-Saharan Africa  2007   \n",
       "2008     Zimbabwe                             Sub-Saharan Africa  2008   \n",
       "2009     Zimbabwe                             Sub-Saharan Africa  2009   \n",
       "2010     Zimbabwe                             Sub-Saharan Africa  2010   \n",
       "2011     Zimbabwe                             Sub-Saharan Africa  2011   \n",
       "\n",
       "       GDP_pp gdp_year next_year       kind  \n",
       "Year                                         \n",
       "1901   613.99     2.01    1906.0       real  \n",
       "1902    616.0     2.01    1906.0  estimated  \n",
       "1903   618.01     2.01    1906.0  estimated  \n",
       "1904   620.02     2.01    1906.0  estimated  \n",
       "1905   622.03     2.01    1906.0  estimated  \n",
       "...       ...      ...       ...        ...  \n",
       "2007  521.402    1.232    2011.0  estimated  \n",
       "2008  522.634    1.232    2011.0  estimated  \n",
       "2009  523.866    1.232    2011.0  estimated  \n",
       "2010  525.098    1.232    2011.0  estimated  \n",
       "2011   526.33      NaN       NaN       real  \n",
       "\n",
       "[21323 rows x 7 columns]"
      ]
     },
     "execution_count": 143,
     "metadata": {},
     "output_type": "execute_result"
    }
   ],
   "source": [
    "gdp"
   ]
  },
  {
   "cell_type": "code",
   "execution_count": 144,
   "metadata": {},
   "outputs": [
    {
     "data": {
      "text/plain": [
       "<Axes: xlabel='Year', ylabel='GDP_pp'>"
      ]
     },
     "execution_count": 144,
     "metadata": {},
     "output_type": "execute_result"
    },
    {
     "data": {
      "image/png": "[encoded data removed]",
      "text/plain": [
       "<Figure size 2000x500 with 1 Axes>"
      ]
     },
     "metadata": {},
     "output_type": "display_data"
    }
   ],
   "source": [
    "import matplotlib.pyplot as plt\n",
    "\n",
    "fig, ax = plt.subplots(figsize=(20, 5))\n",
    "\n",
    "country = 'Brazil'\n",
    "gdp[(gdp['kind'] == 'real') & (gdp['Country'] == country)].plot(kind='scatter', y='GDP_pp', x='Year', ax=ax)\n",
    "gdp[(gdp['kind'] == 'estimated') & (gdp['Country'] == country)].plot(kind='scatter', y='GDP_pp', x='Year', ax=ax, color='orange')\n"
   ]
  },
  {
   "cell_type": "code",
   "execution_count": null,
   "metadata": {},
   "outputs": [],
   "source": []
  }
 ],
 "metadata": {
  "kernelspec": {
   "display_name": "Python 3",
   "language": "python",
   "name": "python3"
  },
  "language_info": {
   "codemirror_mode": {
    "name": "ipython",
    "version": 3
   },
   "file_extension": ".py",
   "mimetype": "text/x-python",
   "name": "python",
   "nbconvert_exporter": "python",
   "pygments_lexer": "ipython3",
   "version": "3.12.0"
  }
 },
 "nbformat": 4,
 "nbformat_minor": 2
}
