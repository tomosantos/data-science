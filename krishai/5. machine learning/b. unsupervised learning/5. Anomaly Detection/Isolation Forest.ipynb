{
    "cells": [
        {
            "cell_type": "markdown",
            "metadata": {
                "formattedRanges": [],
                "cell_id": "184a23c114864c43aabb14abfe717786",
                "deepnote_cell_type": "text-cell-h2"
            },
            "source": "## Isolation Forest Anomaly Detection",
            "block_group": "2c8a734240924f93ae80ec8e586a9759"
        },
        {
            "cell_type": "code",
            "metadata": {
                "source_hash": "961de854",
                "execution_start": 1751286765094,
                "execution_millis": 1419,
                "execution_context_id": "f8ae5439-7ae9-4ab6-b03d-e4ccf12bb5bc",
                "cell_id": "567a56e6a3cc4ec19d806d6b2c192ac4",
                "deepnote_cell_type": "code"
            },
            "source": "import pandas as pd\nimport numpy as np\nimport matplotlib.pyplot as plt\n\nfrom sklearn.ensemble import IsolationForest\n\n%matplotlib inline",
            "block_group": "567a56e6a3cc4ec19d806d6b2c192ac4",
            "execution_count": 4,
            "outputs": [],
            "outputs_reference": null,
            "content_dependencies": null
        },
        {
            "cell_type": "code",
            "metadata": {
                "source_hash": "bb1ecfdf",
                "execution_start": 1751286838536,
                "execution_millis": 8,
                "execution_context_id": "f8ae5439-7ae9-4ab6-b03d-e4ccf12bb5bc",
                "cell_id": "218df72bd50342969c5f91eccde749d5",
                "deepnote_cell_type": "code"
            },
            "source": "df = pd.read_csv(\"https://raw.githubusercontent.com/krishnaik06/Complete-Data-Science-With-Machine-Learning-And-NLP-2024/refs/heads/main/21-Anomaly%20Detection%20ML/healthcare.csv\")\ndf.head()",
            "block_group": "1b4dc9f5870e4bba958458e6286fa47e",
            "execution_count": 7,
            "outputs": [
                {
                    "output_type": "execute_result",
                    "execution_count": 7,
                    "data": {
                        "application/vnd.deepnote.dataframe.v3+json": {
                            "column_count": 2,
                            "columns": [
                                {
                                    "name": "0",
                                    "dtype": "float64",
                                    "stats": {
                                        "unique_count": 5,
                                        "nan_count": 0,
                                        "min": "-3.32958611899837",
                                        "max": "1.6166714467607703",
                                        "histogram": [
                                            {
                                                "bin_start": -3.32958611899837,
                                                "bin_end": -2.834960362422456,
                                                "count": 1
                                            },
                                            {
                                                "bin_start": -2.834960362422456,
                                                "bin_end": -2.340334605846542,
                                                "count": 1
                                            },
                                            {
                                                "bin_start": -2.340334605846542,
                                                "bin_end": -1.8457088492706282,
                                                "count": 0
                                            },
                                            {
                                                "bin_start": -1.8457088492706282,
                                                "bin_end": -1.3510830926947142,
                                                "count": 0
                                            },
                                            {
                                                "bin_start": -1.3510830926947142,
                                                "bin_end": -0.8564573361188001,
                                                "count": 0
                                            },
                                            {
                                                "bin_start": -0.8564573361188001,
                                                "bin_end": -0.36183157954288614,
                                                "count": 0
                                            },
                                            {
                                                "bin_start": -0.36183157954288614,
                                                "bin_end": 0.13279417703302787,
                                                "count": 0
                                            },
                                            {
                                                "bin_start": 0.13279417703302787,
                                                "bin_end": 0.6274199336089419,
                                                "count": 0
                                            },
                                            {
                                                "bin_start": 0.6274199336089419,
                                                "bin_end": 1.122045690184856,
                                                "count": 0
                                            },
                                            {
                                                "bin_start": 1.122045690184856,
                                                "bin_end": 1.6166714467607703,
                                                "count": 3
                                            }
                                        ],
                                        "categories": null
                                    }
                                },
                                {
                                    "name": "1",
                                    "dtype": "float64",
                                    "stats": {
                                        "unique_count": 5,
                                        "nan_count": 0,
                                        "min": "1.609444278372786",
                                        "max": "5.30315976217969",
                                        "histogram": [
                                            {
                                                "bin_start": 1.609444278372786,
                                                "bin_end": 1.9788158267534763,
                                                "count": 2
                                            },
                                            {
                                                "bin_start": 1.9788158267534763,
                                                "bin_end": 2.3481873751341666,
                                                "count": 0
                                            },
                                            {
                                                "bin_start": 2.3481873751341666,
                                                "bin_end": 2.7175589235148574,
                                                "count": 0
                                            },
                                            {
                                                "bin_start": 2.7175589235148574,
                                                "bin_end": 3.0869304718955477,
                                                "count": 1
                                            },
                                            {
                                                "bin_start": 3.0869304718955477,
                                                "bin_end": 3.456302020276238,
                                                "count": 0
                                            },
                                            {
                                                "bin_start": 3.456302020276238,
                                                "bin_end": 3.8256735686569288,
                                                "count": 0
                                            },
                                            {
                                                "bin_start": 3.8256735686569288,
                                                "bin_end": 4.195045117037619,
                                                "count": 0
                                            },
                                            {
                                                "bin_start": 4.195045117037619,
                                                "bin_end": 4.564416665418309,
                                                "count": 1
                                            },
                                            {
                                                "bin_start": 4.564416665418309,
                                                "bin_end": 4.933788213799,
                                                "count": 0
                                            },
                                            {
                                                "bin_start": 4.933788213799,
                                                "bin_end": 5.30315976217969,
                                                "count": 1
                                            }
                                        ],
                                        "categories": null
                                    }
                                },
                                {
                                    "name": "_deepnote_index_column",
                                    "dtype": "int64"
                                }
                            ],
                            "row_count": 5,
                            "preview_row_count": 5,
                            "rows": [
                                {
                                    "0": 1.6166714467607703,
                                    "1": 1.9445220058244743,
                                    "_deepnote_index_column": 0
                                },
                                {
                                    "0": 1.2564614954716933,
                                    "1": 1.609444278372786,
                                    "_deepnote_index_column": 1
                                },
                                {
                                    "0": -2.343918805514341,
                                    "1": 4.392961298452939,
                                    "_deepnote_index_column": 2
                                },
                                {
                                    "0": 1.1953925137948538,
                                    "1": 2.794484609935539,
                                    "_deepnote_index_column": 3
                                },
                                {
                                    "0": -3.32958611899837,
                                    "1": 5.30315976217969,
                                    "_deepnote_index_column": 4
                                }
                            ],
                            "type": "dataframe"
                        },
                        "text/plain": "          0         1\n0  1.616671  1.944522\n1  1.256461  1.609444\n2 -2.343919  4.392961\n3  1.195393  2.794485\n4 -3.329586  5.303160",
                        "text/html": "<div>\n<style scoped>\n    .dataframe tbody tr th:only-of-type {\n        vertical-align: middle;\n    }\n\n    .dataframe tbody tr th {\n        vertical-align: top;\n    }\n\n    .dataframe thead th {\n        text-align: right;\n    }\n</style>\n<table border=\"1\" class=\"dataframe\">\n  <thead>\n    <tr style=\"text-align: right;\">\n      <th></th>\n      <th>0</th>\n      <th>1</th>\n    </tr>\n  </thead>\n  <tbody>\n    <tr>\n      <th>0</th>\n      <td>1.616671</td>\n      <td>1.944522</td>\n    </tr>\n    <tr>\n      <th>1</th>\n      <td>1.256461</td>\n      <td>1.609444</td>\n    </tr>\n    <tr>\n      <th>2</th>\n      <td>-2.343919</td>\n      <td>4.392961</td>\n    </tr>\n    <tr>\n      <th>3</th>\n      <td>1.195393</td>\n      <td>2.794485</td>\n    </tr>\n    <tr>\n      <th>4</th>\n      <td>-3.329586</td>\n      <td>5.303160</td>\n    </tr>\n  </tbody>\n</table>\n</div>"
                    },
                    "metadata": {}
                }
            ],
            "outputs_reference": "s3:deepnote-cell-outputs-production/fa9d8ba4-daa4-49e7-8d9e-87031fb5e559",
            "content_dependencies": null
        },
        {
            "cell_type": "code",
            "metadata": {
                "source_hash": "9f5a719f",
                "execution_start": 1751286883985,
                "execution_millis": 0,
                "execution_context_id": "f8ae5439-7ae9-4ab6-b03d-e4ccf12bb5bc",
                "cell_id": "1bd19a2c75d64d619c5ee29087b5bc90",
                "deepnote_cell_type": "code"
            },
            "source": "plt.scatter(df.iloc[:, 0], df.iloc[:, 1])",
            "block_group": "d9764d414d92429d9d9be0795cbe1442",
            "execution_count": 10,
            "outputs": [
                {
                    "output_type": "execute_result",
                    "execution_count": 10,
                    "data": {
                        "text/plain": "<matplotlib.collections.PathCollection at 0x7fea3b57c0d0>"
                    },
                    "metadata": {}
                },
                {
                    "data": {
                        "text/plain": "<Figure size 640x480 with 1 Axes>",
                        "image/png": "[encoded data removed]"
                    },
                    "metadata": {
                        "image/png": {
                            "width": 550,
                            "height": 413
                        }
                    },
                    "output_type": "display_data"
                }
            ],
            "outputs_reference": "s3:deepnote-cell-outputs-production/2694e74f-1c44-48e7-ae68-d0da72e60596",
            "content_dependencies": null
        },
        {
            "cell_type": "code",
            "metadata": {
                "source_hash": "367aa288",
                "execution_start": 1751286946142,
                "execution_millis": 156,
                "execution_context_id": "f8ae5439-7ae9-4ab6-b03d-e4ccf12bb5bc",
                "cell_id": "192cd87587b84ab7bae60bcfb6541db6",
                "deepnote_cell_type": "code"
            },
            "source": "clf = IsolationForest(contamination=0.2)\nclf.fit(df)\npredictions = clf.predict(df)",
            "block_group": "c261e2e0385c42798f2a2f65dc47f78c",
            "execution_count": 13,
            "outputs": [
                {
                    "name": "stderr",
                    "text": "/root/venv/lib/python3.10/site-packages/sklearn/base.py:450: UserWarning: X does not have valid feature names, but IsolationForest was fitted with feature names\n  warnings.warn(\n",
                    "output_type": "stream"
                }
            ],
            "outputs_reference": "dbtable:cell_outputs/460712ce-16bf-4cf2-aa57-aee575c22e79",
            "content_dependencies": null
        },
        {
            "cell_type": "code",
            "metadata": {
                "source_hash": "463ff82d",
                "execution_start": 1751286951284,
                "execution_millis": 1,
                "execution_context_id": "f8ae5439-7ae9-4ab6-b03d-e4ccf12bb5bc",
                "cell_id": "5baca2c85cd1439e94da5a9f5ce7693a",
                "deepnote_cell_type": "code"
            },
            "source": "predictions",
            "block_group": "b4ed3115ce63496e840bac0003a5b588",
            "execution_count": 16,
            "outputs": [
                {
                    "output_type": "execute_result",
                    "execution_count": 16,
                    "data": {
                        "text/plain": "array([ 1,  1,  1,  1, -1,  1,  1,  1,  1,  1,  1,  1,  1,  1,  1,  1,  1,\n        1,  1,  1, -1,  1,  1,  1, -1,  1,  1,  1,  1,  1,  1, -1,  1,  1,\n        1,  1,  1,  1,  1,  1,  1,  1,  1,  1,  1, -1,  1,  1, -1, -1,  1,\n        1, -1, -1,  1, -1,  1,  1,  1,  1,  1, -1, -1, -1,  1,  1,  1,  1,\n        1,  1,  1,  1, -1,  1, -1,  1,  1,  1, -1,  1,  1,  1,  1, -1,  1,\n       -1,  1, -1,  1,  1,  1,  1, -1,  1,  1,  1,  1, -1,  1,  1,  1,  1,\n        1,  1,  1,  1,  1,  1, -1,  1,  1,  1,  1,  1, -1,  1,  1,  1,  1,\n       -1,  1,  1,  1,  1,  1,  1, -1,  1,  1,  1, -1,  1, -1, -1,  1,  1,\n        1,  1,  1,  1,  1, -1,  1,  1,  1,  1,  1,  1,  1,  1,  1, -1,  1,\n        1,  1,  1,  1,  1,  1,  1, -1,  1,  1,  1,  1,  1, -1, -1,  1,  1,\n        1,  1,  1,  1,  1,  1,  1, -1,  1, -1,  1,  1, -1,  1,  1,  1,  1,\n       -1,  1,  1,  1,  1,  1,  1,  1,  1,  1, -1,  1, -1,  1,  1,  1,  1,\n       -1,  1,  1,  1,  1, -1,  1,  1, -1,  1, -1,  1,  1, -1,  1,  1, -1,\n       -1,  1,  1,  1,  1,  1, -1,  1,  1,  1,  1,  1,  1,  1,  1,  1,  1,\n        1,  1,  1,  1, -1,  1,  1,  1,  1, -1, -1,  1])"
                    },
                    "metadata": {}
                }
            ],
            "outputs_reference": "s3:deepnote-cell-outputs-production/1dce0878-2261-444e-a959-92983100baec",
            "content_dependencies": null
        },
        {
            "cell_type": "code",
            "metadata": {
                "source_hash": "65decff9",
                "execution_start": 1751286973974,
                "execution_millis": 1,
                "execution_context_id": "f8ae5439-7ae9-4ab6-b03d-e4ccf12bb5bc",
                "cell_id": "9b15b61dec0e49c7a7be252a7fba8b75",
                "deepnote_cell_type": "code"
            },
            "source": "index = np.where(predictions < 0)\nindex",
            "block_group": "fc1816a2a2554bd0a8c821a0de56b5d6",
            "execution_count": 19,
            "outputs": [
                {
                    "output_type": "execute_result",
                    "execution_count": 19,
                    "data": {
                        "text/plain": "(array([  4,  20,  24,  31,  45,  48,  49,  52,  53,  55,  61,  62,  63,\n         72,  74,  78,  83,  85,  87,  92,  97, 108, 114, 119, 126, 130,\n        132, 133, 141, 151, 160, 166, 167, 177, 179, 182, 187, 197, 199,\n        204, 209, 212, 214, 217, 220, 221, 227, 242, 247, 248]),)"
                    },
                    "metadata": {}
                }
            ],
            "outputs_reference": "dbtable:cell_outputs/a99d53ac-b44f-44a1-b303-f48b07deaa62",
            "content_dependencies": null
        },
        {
            "cell_type": "code",
            "metadata": {
                "source_hash": "2d8717cb",
                "execution_start": 1751286997090,
                "execution_millis": 1,
                "execution_context_id": "f8ae5439-7ae9-4ab6-b03d-e4ccf12bb5bc",
                "cell_id": "96d60346075b49a18730aab7a44239d9",
                "deepnote_cell_type": "code"
            },
            "source": "X = df.values",
            "block_group": "a9201ac9535e45fc99af954709bb3514",
            "execution_count": 22,
            "outputs": [],
            "outputs_reference": null,
            "content_dependencies": null
        },
        {
            "cell_type": "code",
            "metadata": {
                "source_hash": "fca58740",
                "execution_start": 1751287059085,
                "execution_context_id": "f8ae5439-7ae9-4ab6-b03d-e4ccf12bb5bc",
                "cell_id": "3f0e8dcb053748fa9ee5f94e68e45eb3",
                "deepnote_cell_type": "code"
            },
            "source": "plt.scatter(df.iloc[:, 0], df.iloc[:, 1])\nplt.scatter(X[index, 0], X[index, 1], edgecolors='r')",
            "block_group": "4eb9e478b0654357ad2370190d04d891",
            "execution_count": 25,
            "outputs": [
                {
                    "output_type": "execute_result",
                    "execution_count": 25,
                    "data": {
                        "text/plain": "<matplotlib.collections.PathCollection at 0x7fea3a68f220>"
                    },
                    "metadata": {}
                },
                {
                    "data": {
                        "text/plain": "<Figure size 640x480 with 1 Axes>",
                        "image/png": "[encoded data removed]"
                    },
                    "metadata": {
                        "image/png": {
                            "width": 550,
                            "height": 413
                        }
                    },
                    "output_type": "display_data"
                }
            ],
            "outputs_reference": "s3:deepnote-cell-outputs-production/f9ebe5d0-44f5-446a-8c34-404428e8a5fd",
            "content_dependencies": null
        },
        {
            "cell_type": "code",
            "metadata": {
                "cell_id": "a8e60c17670243ebafbdfca14031ba47",
                "deepnote_cell_type": "code"
            },
            "source": "",
            "block_group": "9514f34b11ed4c4ebf03902d9f38ad48",
            "execution_count": null,
            "outputs": [],
            "outputs_reference": null,
            "content_dependencies": null
        },
        {
            "cell_type": "markdown",
            "source": "<a style='text-decoration:none;line-height:16px;display:flex;color:#5B5B62;padding:10px;justify-content:end;' href='https://deepnote.com?utm_source=created-in-deepnote-cell&projectId=c1e9ce1d-4696-4b72-ad85-65c692132123' target=\"_blank\">\n<img alt='Created in deepnote.com' style='display:inline;max-height:16px;margin:0px;margin-right:7.5px;' src='data:image/svg+xml;base64,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' > </img>\nCreated in <span style='font-weight:600;margin-left:4px;'>Deepnote</span></a>",
            "metadata": {
                "created_in_deepnote_cell": true,
                "deepnote_cell_type": "markdown"
            }
        }
    ],
    "nbformat": 4,
    "nbformat_minor": 0,
    "metadata": {
        "deepnote_notebook_id": "c4fc5b4d2213479eabe9674a0100d8a2"
    }
}