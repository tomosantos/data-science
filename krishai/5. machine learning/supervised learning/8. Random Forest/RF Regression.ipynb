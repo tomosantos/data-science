{
 "cells": [
  {
   "cell_type": "markdown",
   "id": "3f3b2d78",
   "metadata": {},
   "source": [
    "# Random Forest Regression\n",
    "\n",
    "## Used Car Price Prediction\n",
    "\n",
    "### 1. Problem Statement\n",
    "- This dataset comprises used cars sold on cardehko.com in India as well as important features of these cars.\n",
    "- If user can predict the price of the car based on input features.\n",
    "- Prediction results can be used to give new seller the price suggestion based on market condition.\n",
    "\n",
    "### 2. Data Collection\n",
    "- The Dataset is collected from scrapping from cardheko webiste\n",
    "- The data consists of 13 column and 15411 rows."
   ]
  },
  {
   "cell_type": "markdown",
   "id": "929f8e70",
   "metadata": {},
   "source": [
    "## 1. Loading the Dataset"
   ]
  },
  {
   "cell_type": "code",
   "execution_count": null,
   "id": "cb5f177c",
   "metadata": {},
   "outputs": [],
   "source": []
  }
 ],
 "metadata": {
  "kernelspec": {
   "display_name": "venv",
   "language": "python",
   "name": "python3"
  },
  "language_info": {
   "name": "python",
   "version": "3.9.0"
  }
 },
 "nbformat": 4,
 "nbformat_minor": 5
}
