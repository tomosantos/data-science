{
 "cells": [
  {
   "cell_type": "markdown",
   "metadata": {},
   "source": [
    "# Module 3: Data Structures Assignments\n",
    "## Lesson 3.3: Sets"
   ]
  },
  {
   "cell_type": "markdown",
   "id": "e513dc72",
   "metadata": {},
   "source": [
    "### Assignment 1: Creating and Accessing Sets\n",
    "\n",
    "Create a set with the first 10 positive integers. Print the set."
   ]
  },
  {
   "cell_type": "code",
   "execution_count": 1,
   "metadata": {},
   "outputs": [
    {
     "name": "stdout",
     "output_type": "stream",
     "text": [
      "{1, 2, 3, 4, 5, 6, 7, 8, 9, 10}\n"
     ]
    }
   ],
   "source": [
    "s = set(range(1, 11))\n",
    "print(s)"
   ]
  },
  {
   "cell_type": "markdown",
   "id": "220effc1",
   "metadata": {},
   "source": [
    "### Assignment 2: Adding and Removing Elements\n",
    "\n",
    "Add the number 11 to the set created in Assignment 1. Then remove the number 1 from the set. Print the modified set."
   ]
  },
  {
   "cell_type": "code",
   "execution_count": 2,
   "id": "9913386f",
   "metadata": {},
   "outputs": [
    {
     "name": "stdout",
     "output_type": "stream",
     "text": [
      "{2, 3, 4, 5, 6, 7, 8, 9, 10, 11}\n"
     ]
    }
   ],
   "source": [
    "s.add(11)\n",
    "s.remove(1)\n",
    "print(s)"
   ]
  },
  {
   "cell_type": "markdown",
   "id": "5e76bb6d",
   "metadata": {},
   "source": [
    "### Assignment 3: Set Operations\n",
    "\n",
    "Create two sets: one with the first 5 positive integers and another with the first 5 even integers. Perform and print the results of union, intersection, difference, and symmetric difference operations on these sets."
   ]
  },
  {
   "cell_type": "code",
   "execution_count": 5,
   "id": "aa9f95ef",
   "metadata": {},
   "outputs": [
    {
     "name": "stdout",
     "output_type": "stream",
     "text": [
      "Union: {1, 2, 3, 4, 5, 6, 7, 8, 9, 10}\n",
      "Intersection: {2, 4, 6, 8, 10}\n",
      "Difference (set1 - set2): {1, 3, 5, 7, 9}\n",
      "Symmetric Differennce: {1, 3, 5, 7, 9}\n"
     ]
    }
   ],
   "source": [
    "set1 = set(range(1, 11))\n",
    "set2 = set(range(2, 11, 2))\n",
    "\n",
    "print(f\"Union: {set1 | set2}\")\n",
    "print(f\"Intersection: {set1 & set2}\")\n",
    "print(f'Difference (set1 - set2): {set1 - set2}')\n",
    "print(f'Symmetric Difference: {set1 ^ set2}')"
   ]
  },
  {
   "cell_type": "markdown",
   "id": "172066df",
   "metadata": {},
   "source": [
    "### Assignment 4: Set Comprehensions\n",
    "\n",
    "Create a new set containing the squares of the first 10 positive integers using a set comprehension. Print the new set."
   ]
  },
  {
   "cell_type": "code",
   "execution_count": 6,
   "id": "9f2c9eb4",
   "metadata": {},
   "outputs": [
    {
     "name": "stdout",
     "output_type": "stream",
     "text": [
      "{64, 1, 4, 36, 100, 9, 16, 49, 81, 25}\n"
     ]
    }
   ],
   "source": [
    "squares = {x**2 for x in range(1, 11)}\n",
    "print(squares)"
   ]
  },
  {
   "cell_type": "markdown",
   "id": "9cd1e48f",
   "metadata": {},
   "source": [
    "### Assignment 5: Filtering Sets\n",
    "\n",
    "Create a new set containing only the even numbers from the set created in Assignment 1 using a set comprehension. Print the new set."
   ]
  },
  {
   "cell_type": "code",
   "execution_count": 7,
   "id": "1bf6b8d2",
   "metadata": {},
   "outputs": [
    {
     "name": "stdout",
     "output_type": "stream",
     "text": [
      "{2, 4, 6, 8, 10}\n"
     ]
    }
   ],
   "source": [
    "evens = {x for x in s if x % 2 == 0}\n",
    "print(evens)"
   ]
  },
  {
   "cell_type": "markdown",
   "id": "a1be8d76",
   "metadata": {},
   "source": [
    "### Assignment 6: Set Methods\n",
    "\n",
    "Create a set with duplicate elements and remove the duplicates using set methods. Print the modified set."
   ]
  },
  {
   "cell_type": "code",
   "execution_count": 8,
   "id": "43fc9e63",
   "metadata": {},
   "outputs": [
    {
     "name": "stdout",
     "output_type": "stream",
     "text": [
      "{1, 2, 3, 4, 5}\n"
     ]
    }
   ],
   "source": [
    "s = {1, 2, 2, 3, 4, 4, 5}\n",
    "unique_s = set(s)\n",
    "print(unique_s)"
   ]
  },
  {
   "cell_type": "markdown",
   "id": "13c0449b",
   "metadata": {},
   "source": [
    "### Assignment 7: Subsets and Supersets\n",
    "\n",
    "Create two sets: one with the first 5 positive integers and another with the first 3 positive integers. Check if the second set is a subset of the first set and if the first set is a superset of the second set. Print the results."
   ]
  },
  {
   "cell_type": "code",
   "execution_count": 9,
   "id": "8346270d",
   "metadata": {},
   "outputs": [
    {
     "name": "stdout",
     "output_type": "stream",
     "text": [
      "Is set2 a subset of set1? True\n",
      "Is set1 a superset of set2? True\n"
     ]
    }
   ],
   "source": [
    "set1 = set(range(1, 6))\n",
    "set2 = set(range(1, 4))\n",
    "\n",
    "print(f'Is set2 a subset of set1? {set2.issubset(set1)}')\n",
    "print(f'Is set1 a superset of set2? {set1.issuperset(set2)}')"
   ]
  },
  {
   "cell_type": "markdown",
   "id": "676ed62f",
   "metadata": {},
   "source": [
    "### Assignment 8: Frozenset\n",
    "\n",
    "Create a frozenset with the first 5 positive integers. Print the frozenset."
   ]
  },
  {
   "cell_type": "code",
   "execution_count": 10,
   "id": "3b370a6d",
   "metadata": {},
   "outputs": [
    {
     "name": "stdout",
     "output_type": "stream",
     "text": [
      "frozenset({1, 2, 3, 4, 5})\n"
     ]
    }
   ],
   "source": [
    "fs = frozenset(range(1, 6))\n",
    "print(fs)"
   ]
  },
  {
   "cell_type": "markdown",
   "id": "95951fb8",
   "metadata": {},
   "source": [
    "### Assignment 9: Set and List Conversion\n",
    "\n",
    "Create a set with the first 5 positive integers. Convert it to a list, append the number 6, and convert it back to a set. Print the resulting set."
   ]
  },
  {
   "cell_type": "code",
   "execution_count": 11,
   "id": "19c6fabf",
   "metadata": {},
   "outputs": [
    {
     "name": "stdout",
     "output_type": "stream",
     "text": [
      "{1, 2, 3, 4, 5, 6}\n"
     ]
    }
   ],
   "source": [
    "s = set(range(1, 6))\n",
    "lst = list(s)\n",
    "lst.append(6)\n",
    "s = set(lst)\n",
    "print(s)"
   ]
  },
  {
   "cell_type": "markdown",
   "id": "be446472",
   "metadata": {},
   "source": [
    "### Assignment 10: Set and Dictionary\n",
    "\n",
    "Create a dictionary with set keys and integer values. Print the dictionary."
   ]
  },
  {
   "cell_type": "code",
   "execution_count": 12,
   "id": "b6534af7",
   "metadata": {},
   "outputs": [
    {
     "name": "stdout",
     "output_type": "stream",
     "text": [
      "{frozenset({1, 2}): 3, frozenset({3, 4}): 7, frozenset({5, 6}): 11}\n"
     ]
    }
   ],
   "source": [
    "d = {\n",
    "    frozenset({1, 2}): 3,\n",
    "    frozenset({3, 4}): 7,\n",
    "    frozenset({5, 6}): 11\n",
    "}\n",
    "print(d)"
   ]
  },
  {
   "cell_type": "markdown",
   "id": "d934de02",
   "metadata": {},
   "source": [
    "### Assignment 11: Iterating Over Sets\n",
    "\n",
    "Create a set and iterate over the elements, printing each element."
   ]
  },
  {
   "cell_type": "code",
   "execution_count": 13,
   "id": "2bad4504",
   "metadata": {},
   "outputs": [
    {
     "name": "stdout",
     "output_type": "stream",
     "text": [
      "1\n",
      "2\n",
      "3\n",
      "4\n",
      "5\n"
     ]
    }
   ],
   "source": [
    "s = set(range(1, 6))\n",
    "for elem in s:\n",
    "    print(elem)"
   ]
  },
  {
   "cell_type": "markdown",
   "id": "ff712653",
   "metadata": {},
   "source": [
    "### Assignment 12: Removing Elements from Sets\n",
    "\n",
    "Create a set and remove elements from it until it is empty. Print the set after each removal."
   ]
  },
  {
   "cell_type": "code",
   "execution_count": 14,
   "id": "a3bd4bf6",
   "metadata": {},
   "outputs": [
    {
     "name": "stdout",
     "output_type": "stream",
     "text": [
      "{2, 3, 4, 5}\n",
      "{3, 4, 5}\n",
      "{4, 5}\n",
      "{5}\n",
      "set()\n"
     ]
    }
   ],
   "source": [
    "s = set(range(1, 6))\n",
    "while s:\n",
    "    s.pop()\n",
    "    print(s)"
   ]
  },
  {
   "cell_type": "markdown",
   "id": "20d3fc1a",
   "metadata": {},
   "source": [
    "### Assignment 13: Set Symmetric Difference Update\n",
    "\n",
    "Create two sets and update the first set with the symmetric difference of the two sets. Print the modified first set."
   ]
  },
  {
   "cell_type": "code",
   "execution_count": 15,
   "id": "f11411c2",
   "metadata": {},
   "outputs": [
    {
     "name": "stdout",
     "output_type": "stream",
     "text": [
      "{1, 2, 4, 5}\n"
     ]
    }
   ],
   "source": [
    "set1 = {1, 2, 3}\n",
    "set2 = {3, 4, 5}\n",
    "set1.symmetric_difference_update(set2)\n",
    "print(set1)"
   ]
  },
  {
   "cell_type": "markdown",
   "id": "cad7e1a3",
   "metadata": {},
   "source": [
    "### Assignment 14: Set Membership Testing\n",
    "\n",
    "Create a set and test if certain elements are present in the set. Print the results."
   ]
  },
  {
   "cell_type": "code",
   "execution_count": 16,
   "id": "56d2e2a9",
   "metadata": {},
   "outputs": [
    {
     "name": "stdout",
     "output_type": "stream",
     "text": [
      "True\n",
      "False\n"
     ]
    }
   ],
   "source": [
    "s = set(range(1, 6))\n",
    "print(3 in s)\n",
    "print(6 in s)"
   ]
  },
  {
   "cell_type": "markdown",
   "id": "482e349f",
   "metadata": {},
   "source": [
    "### Assignment 15: Set of Tuples\n",
    "\n",
    "Create a set containing tuples, where each tuple contains two elements. Print the set."
   ]
  },
  {
   "cell_type": "code",
   "execution_count": 17,
   "id": "55e12d17",
   "metadata": {},
   "outputs": [
    {
     "name": "stdout",
     "output_type": "stream",
     "text": [
      "{(1, 2), (3, 4), (5, 6)}\n"
     ]
    }
   ],
   "source": [
    "s = { (1, 2), (3, 4), (5, 6) }\n",
    "print(s)"
   ]
  }
 ],
 "metadata": {
  "kernelspec": {
   "display_name": "venv",
   "language": "python",
   "name": "python3"
  },
  "language_info": {
   "codemirror_mode": {
    "name": "ipython",
    "version": 3
   },
   "file_extension": ".py",
   "mimetype": "text/x-python",
   "name": "python",
   "nbconvert_exporter": "python",
   "pygments_lexer": "ipython3",
   "version": "3.12.0"
  }
 },
 "nbformat": 4,
 "nbformat_minor": 5
}
